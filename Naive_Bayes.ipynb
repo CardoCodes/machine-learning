{
  "nbformat": 4,
  "nbformat_minor": 0,
  "metadata": {
    "colab": {
      "name": "80657674 Mendez Ricardo CS 4361 / 5361 - Naive Bayes",
      "provenance": [],
      "collapsed_sections": []
    },
    "kernelspec": {
      "name": "python3",
      "display_name": "Python 3"
    },
    "language_info": {
      "name": "python"
    }
  },
  "cells": [
    {
      "cell_type": "markdown",
      "source": [
        "## **Before you start**\n",
        "\n",
        "Make a copy of this Colab by clicking on File > Save a Copy in Drive\n",
        "\n",
        "After making a copy, add your student id, last name, and first name to the title."
      ],
      "metadata": {
        "id": "wUCyUM9O2xfA"
      }
    },
    {
      "cell_type": "code",
      "source": [
        ""
      ],
      "metadata": {
        "id": "3Wjb-2xz2zxN"
      },
      "execution_count": null,
      "outputs": []
    },
    {
      "cell_type": "markdown",
      "metadata": {
        "id": "bs6gdwL7VSc1"
      },
      "source": [
        "# Exercises Naive Bayes Classifier"
      ]
    },
    {
      "cell_type": "markdown",
      "metadata": {
        "id": "2-SBxroVVboY"
      },
      "source": [
        "## Naive Bayes - Example"
      ]
    },
    {
      "cell_type": "markdown",
      "metadata": {
        "id": "TMZfZrcjSuWX"
      },
      "source": [
        "Consider a dataset with 3 classes and 5 binary attributes. Let the arrays p_class and p_att_given_class be:"
      ]
    },
    {
      "cell_type": "code",
      "metadata": {
        "colab": {
          "base_uri": "https://localhost:8080/"
        },
        "id": "m9ElybXpS2vk",
        "outputId": "7f2eba4b-df45-4359-d3c8-78b6cbb5cb92"
      },
      "source": [
        "import numpy as np\n",
        "\n",
        "p_class = np.ones(3)/3\n",
        "p_att_given_class = np.array([[0.72, 0.21, 0.89, 0.47, 0.64],[0.32, 0.82, 0.54, 0.82, 0.17],[0.76, 0.65, 0.74, 0.31, 0.75]])\n",
        "\n",
        "print(p_class)\n",
        "print()\n",
        "print(p_att_given_class)\n"
      ],
      "execution_count": null,
      "outputs": [
        {
          "output_type": "stream",
          "name": "stdout",
          "text": [
            "[0.33333333 0.33333333 0.33333333]\n",
            "\n",
            "[[0.72 0.21 0.89 0.47 0.64]\n",
            " [0.32 0.82 0.54 0.82 0.17]\n",
            " [0.76 0.65 0.74 0.31 0.75]]\n"
          ]
        }
      ]
    },
    {
      "cell_type": "markdown",
      "metadata": {
        "id": "5-zEYZGQTGc9"
      },
      "source": [
        "where p_class[i] represents the probability that an example belongs to class i and p_att_given_class[i,j] \n",
        "represents the probability that attribute j in an example of class i is equal to 1. "
      ]
    },
    {
      "cell_type": "markdown",
      "metadata": {
        "id": "e9Y4_l2HTOJc"
      },
      "source": [
        "What is the probability that for an example of class 2, attribute 0 is equal to 1?"
      ]
    },
    {
      "cell_type": "code",
      "metadata": {
        "colab": {
          "base_uri": "https://localhost:8080/"
        },
        "id": "Zfx8C1JcTa9i",
        "outputId": "58623e77-0ad6-464c-ce47-b2d14559973d"
      },
      "source": [
        "print(p_att_given_class[2,0])"
      ],
      "execution_count": null,
      "outputs": [
        {
          "output_type": "stream",
          "name": "stdout",
          "text": [
            "0.76\n"
          ]
        }
      ]
    },
    {
      "cell_type": "markdown",
      "metadata": {
        "id": "_qwf-athTmc1"
      },
      "source": [
        "What is the probability that for an example of class 1, attribute 4 is equal to 0?"
      ]
    },
    {
      "cell_type": "code",
      "metadata": {
        "colab": {
          "base_uri": "https://localhost:8080/"
        },
        "id": "uuCggzIqToud",
        "outputId": "d0a3fbee-5d61-4d88-dd4c-f8839c542679"
      },
      "source": [
        "print(1-p_att_given_class[1,4])"
      ],
      "execution_count": null,
      "outputs": [
        {
          "output_type": "stream",
          "name": "stdout",
          "text": [
            "0.83\n"
          ]
        }
      ]
    },
    {
      "cell_type": "markdown",
      "metadata": {
        "id": "5_k8wCMxTbwV"
      },
      "source": [
        "How would the Naïve Bayes classifier classify example [1,1,1,0,0]? "
      ]
    },
    {
      "cell_type": "code",
      "metadata": {
        "id": "0ZDzTtoYTwBk"
      },
      "source": [
        "def classify(x,pc,pac):\n",
        "  p = pc \n",
        "  for i in range(x.shape[0]): #i = 3\n",
        "    if x[i]==1:\n",
        "      p = p* pac[:,i] \n",
        "    else:\n",
        "      p = p*(1-pac[:,i])\n",
        "  p = p/np.sum(p)\n",
        "  print(p)\n",
        "  return np.argmax(p)\n"
      ],
      "execution_count": null,
      "outputs": []
    },
    {
      "cell_type": "code",
      "metadata": {
        "id": "yfoDFaqKIAQL"
      },
      "source": [
        "def classify_no_loops(x,pc,pac):\n",
        "  p = x*pac + (1-x)*(1-pac)\n",
        "  p = np.prod(p, axis=1)\n",
        "  p = pc*p\n",
        "  p = p/np.sum(p)\n",
        "  print(p)\n",
        "  return np.argmax(p)"
      ],
      "execution_count": null,
      "outputs": []
    },
    {
      "cell_type": "code",
      "metadata": {
        "colab": {
          "base_uri": "https://localhost:8080/"
        },
        "id": "csF66Y2ZmU8l",
        "outputId": "99d82fba-e036-477a-95d0-8030322f5f85"
      },
      "source": [
        "test_example = np.array([1,1,1,0,0])\n",
        "\n",
        "classify(test_example,p_class,p_att_given_class)"
      ],
      "execution_count": null,
      "outputs": [
        {
          "output_type": "stream",
          "name": "stdout",
          "text": [
            "[0.23361808 0.19261693 0.57376499]\n"
          ]
        },
        {
          "output_type": "execute_result",
          "data": {
            "text/plain": [
              "2"
            ]
          },
          "metadata": {},
          "execution_count": 134
        }
      ]
    },
    {
      "cell_type": "code",
      "source": [
        "test_example = np.array([1,1,1,0,0])\n",
        "\n",
        "classify_no_loops(test_example, p_class, p_att_given_class)\n"
      ],
      "metadata": {
        "colab": {
          "base_uri": "https://localhost:8080/"
        },
        "id": "2wTTbY5-avDY",
        "outputId": "5f2447e0-a205-4a5a-d5ca-e3f74422af7b"
      },
      "execution_count": null,
      "outputs": [
        {
          "output_type": "stream",
          "name": "stdout",
          "text": [
            "[0.23361808 0.19261693 0.57376499]\n"
          ]
        },
        {
          "output_type": "execute_result",
          "data": {
            "text/plain": [
              "2"
            ]
          },
          "metadata": {},
          "execution_count": 135
        }
      ]
    },
    {
      "cell_type": "markdown",
      "metadata": {
        "id": "oGIf2Y1wVh81"
      },
      "source": [
        "## Exercise 1"
      ]
    },
    {
      "cell_type": "markdown",
      "metadata": {
        "id": "dYvyltX-nUfE"
      },
      "source": [
        "Write a program to classify the MNIST dataset using the Naive Bayes classifer. \n",
        "\n",
        "Read the dataset"
      ]
    },
    {
      "cell_type": "code",
      "metadata": {
        "id": "dVaf0APAVoLQ"
      },
      "source": [
        "import tensorflow as tf\n",
        "(x_train, y_train), (x_test, y_test) = tf.keras.datasets.mnist.load_data()\n",
        "x_train = np.float32(x_train/255).reshape(x_train.shape[0],-1)\n",
        "x_test = np.float32(x_test/255).reshape(x_test.shape[0],-1)"
      ],
      "execution_count": null,
      "outputs": []
    },
    {
      "cell_type": "markdown",
      "source": [
        "Create a new dataset using binary attributes as follows:\n",
        "\n",
        "m = mean pixel value in x_train\n",
        "\n",
        "x_train_binary[i,j]  =  1 if x_train[i,j] >m; otherwise x_train_binary[i,j] = 0\n",
        "\n",
        "x_test_binary[i,j]  =  1 if x_test[i,j] >m; otherwise x_test_binary[i,j] = 0\n",
        "\n"
      ],
      "metadata": {
        "id": "iyFT71st15-v"
      }
    },
    {
      "cell_type": "code",
      "metadata": {
        "id": "2g3AeGO1pgyy",
        "colab": {
          "base_uri": "https://localhost:8080/"
        },
        "outputId": "2e9c30f4-061b-4e97-aaa5-22ac4a00c820"
      },
      "source": [
        "#mean pixel value of x_train\n",
        "m = x_train.mean()\n",
        "\n",
        "#make copies of the original tables\n",
        "x_train_binary = np.copy(x_train)\n",
        "x_test_binary = np.copy(x_test)\n",
        "\n",
        "#1 if x_train[i,j] > m otherwise 0\n",
        "x_train_binary[x_train_binary > m] = 1.0\n",
        "x_train_binary[x_train_binary <= m] = 0.0\n",
        "\n",
        "x_test_binary[x_test_binary > m] = 1.0\n",
        "x_test_binary[x_test_binary <= m] = 0.0\n",
        "\n",
        "print(x_test_binary.shape)\n",
        "\n",
        "print(\"mean pixel value:  \", m)\n",
        "\n",
        "print(\"mean train binary: \", x_train_binary.mean())\n",
        "print(\"mean test binary:  \",x_test_binary.mean())\n"
      ],
      "execution_count": null,
      "outputs": [
        {
          "output_type": "stream",
          "name": "stdout",
          "text": [
            "(10000, 784)\n",
            "mean pixel value:   0.13066062\n",
            "mean train binary:  0.16980651\n",
            "mean test binary:   0.17136262\n"
          ]
        }
      ]
    },
    {
      "cell_type": "markdown",
      "source": [
        ""
      ],
      "metadata": {
        "id": "N1OryIkNlB-8"
      }
    },
    {
      "cell_type": "markdown",
      "metadata": {
        "id": "8YhHybUbnvJr"
      },
      "source": [
        "Compute class probabilities (p_class) from training data, where p_class[i] represents the probability that an example belongs to class i. You can estimate this by dividing the number of instances in your training dataset that belong to class i over the number of training examples."
      ]
    },
    {
      "cell_type": "code",
      "metadata": {
        "id": "CJsGkQ7hVo1F",
        "colab": {
          "base_uri": "https://localhost:8080/"
        },
        "outputId": "34621aae-3ec9-4d7d-dddf-e5c5dd6b78d6"
      },
      "source": [
        "y_train_instance = np.copy(y_train)\n",
        "\n",
        "#number of instances in your training dataset that belong to class i over the number of training examples.\n",
        "p_class = y_train_instance[y_train_instance == 1] / y_train.size\n",
        "\n",
        "print(np.count_nonzero(p_class))"
      ],
      "execution_count": null,
      "outputs": [
        {
          "output_type": "stream",
          "name": "stdout",
          "text": [
            "6742\n"
          ]
        }
      ]
    },
    {
      "cell_type": "markdown",
      "metadata": {
        "id": "svKdIXQWnxtr"
      },
      "source": [
        "Compute conditional probabilities (p_att_given_class) from training data, where p_att_given_class[i,j] represents the probability that attribute j in an example of class i is equal to 1. You can estimate this by dividing the number of times attribute j is equal to 1 in training instances of class j over the number of training instances of class i"
      ]
    },
    {
      "cell_type": "code",
      "metadata": {
        "id": "xTRVw7xbVpfU",
        "colab": {
          "base_uri": "https://localhost:8080/",
          "height": 253
        },
        "outputId": "092d32e8-b875-4e3d-ccb6-354bd0639317"
      },
      "source": [
        "print(x_train_binary.shape[0])\n",
        "p_att_given_class = []\n",
        "\n",
        "\n",
        "for i in range(x_train_binary.shape[0]):\n",
        "   prob = (np.count_nonzero(x_train_binary[i])) / x_train_binary[i].size\n",
        "  p_att_given_class.append(prob)\n",
        "\n",
        "\n",
        "print(p_att_given_class)\n",
        "print(len(p_att_given_class))\n",
        "\n",
        "  \n",
        "\n"
      ],
      "execution_count": null,
      "outputs": [
        {
          "output_type": "stream",
          "name": "stdout",
          "text": [
            "60000\n"
          ]
        },
        {
          "output_type": "error",
          "ename": "KeyboardInterrupt",
          "evalue": "ignored",
          "traceback": [
            "\u001b[0;31m---------------------------------------------------------------------------\u001b[0m",
            "\u001b[0;31mKeyboardInterrupt\u001b[0m                         Traceback (most recent call last)",
            "\u001b[0;32m<ipython-input-181-1ea44ff78f0b>\u001b[0m in \u001b[0;36m<module>\u001b[0;34m()\u001b[0m\n\u001b[1;32m      6\u001b[0m    \u001b[0mprob\u001b[0m \u001b[0;34m=\u001b[0m \u001b[0;34m(\u001b[0m\u001b[0mnp\u001b[0m\u001b[0;34m.\u001b[0m\u001b[0mcount_nonzero\u001b[0m\u001b[0;34m(\u001b[0m\u001b[0mx_train_binary\u001b[0m\u001b[0;34m[\u001b[0m\u001b[0mi\u001b[0m\u001b[0;34m]\u001b[0m\u001b[0;34m)\u001b[0m\u001b[0;34m)\u001b[0m \u001b[0;34m/\u001b[0m \u001b[0mx_train_binary\u001b[0m\u001b[0;34m[\u001b[0m\u001b[0mi\u001b[0m\u001b[0;34m]\u001b[0m\u001b[0;34m.\u001b[0m\u001b[0msize\u001b[0m\u001b[0;34m\u001b[0m\u001b[0;34m\u001b[0m\u001b[0m\n\u001b[1;32m      7\u001b[0m    \u001b[0;32mfor\u001b[0m \u001b[0mi\u001b[0m \u001b[0;32min\u001b[0m \u001b[0mrange\u001b[0m\u001b[0;34m(\u001b[0m\u001b[0mx_train_binary\u001b[0m\u001b[0;34m.\u001b[0m\u001b[0mshape\u001b[0m\u001b[0;34m[\u001b[0m\u001b[0;36m0\u001b[0m\u001b[0;34m]\u001b[0m\u001b[0;34m)\u001b[0m\u001b[0;34m:\u001b[0m\u001b[0;34m\u001b[0m\u001b[0;34m\u001b[0m\u001b[0m\n\u001b[0;32m----> 8\u001b[0;31m     \u001b[0mp_att_given_class\u001b[0m\u001b[0;34m.\u001b[0m\u001b[0mappend\u001b[0m\u001b[0;34m(\u001b[0m\u001b[0mprob\u001b[0m\u001b[0;34m)\u001b[0m\u001b[0;34m\u001b[0m\u001b[0;34m\u001b[0m\u001b[0m\n\u001b[0m\u001b[1;32m      9\u001b[0m \u001b[0;34m\u001b[0m\u001b[0m\n\u001b[1;32m     10\u001b[0m \u001b[0;34m\u001b[0m\u001b[0m\n",
            "\u001b[0;31mKeyboardInterrupt\u001b[0m: "
          ]
        }
      ]
    },
    {
      "cell_type": "code",
      "source": [
        ""
      ],
      "metadata": {
        "id": "2TDtc37-Mt3O"
      },
      "execution_count": null,
      "outputs": []
    },
    {
      "cell_type": "markdown",
      "metadata": {
        "id": "ohcp-tEJn5bz"
      },
      "source": [
        "Classify test data - print accuracy and confusion matrix (feel free to use sklearn to print the accuracy and confusion matrix)\n",
        "\n",
        "\n"
      ]
    },
    {
      "cell_type": "code",
      "metadata": {
        "id": "7E2QCH-7Vrw1",
        "colab": {
          "base_uri": "https://localhost:8080/",
          "height": 357
        },
        "outputId": "48bb8995-413d-46f2-838a-d148440a777f"
      },
      "source": [
        "# Your code here\n",
        "import sklearn as sk\n",
        "y_pred = classify_no_loops(x_test, p_class, p_att_given_class)\n",
        "\n",
        "sk.metrics.confustion_matrix(y_test, y_pred)\n",
        "sk.metrics.accuracy_score(y_test, y_pred)"
      ],
      "execution_count": null,
      "outputs": [
        {
          "output_type": "error",
          "ename": "ValueError",
          "evalue": "ignored",
          "traceback": [
            "\u001b[0;31m---------------------------------------------------------------------------\u001b[0m",
            "\u001b[0;31mValueError\u001b[0m                                Traceback (most recent call last)",
            "\u001b[0;32m<ipython-input-180-372b7df4350d>\u001b[0m in \u001b[0;36m<module>\u001b[0;34m()\u001b[0m\n\u001b[1;32m      1\u001b[0m \u001b[0;31m# Your code here\u001b[0m\u001b[0;34m\u001b[0m\u001b[0;34m\u001b[0m\u001b[0;34m\u001b[0m\u001b[0m\n\u001b[1;32m      2\u001b[0m \u001b[0;32mimport\u001b[0m \u001b[0msklearn\u001b[0m \u001b[0;32mas\u001b[0m \u001b[0msk\u001b[0m\u001b[0;34m\u001b[0m\u001b[0;34m\u001b[0m\u001b[0m\n\u001b[0;32m----> 3\u001b[0;31m \u001b[0my_pred\u001b[0m \u001b[0;34m=\u001b[0m \u001b[0mclassify_no_loops\u001b[0m\u001b[0;34m(\u001b[0m\u001b[0mx_test\u001b[0m\u001b[0;34m,\u001b[0m \u001b[0mp_class\u001b[0m\u001b[0;34m,\u001b[0m \u001b[0mp_att_given_class\u001b[0m\u001b[0;34m)\u001b[0m\u001b[0;34m\u001b[0m\u001b[0;34m\u001b[0m\u001b[0m\n\u001b[0m\u001b[1;32m      4\u001b[0m \u001b[0;34m\u001b[0m\u001b[0m\n\u001b[1;32m      5\u001b[0m \u001b[0msk\u001b[0m\u001b[0;34m.\u001b[0m\u001b[0mmetrics\u001b[0m\u001b[0;34m.\u001b[0m\u001b[0mconfustion_matrix\u001b[0m\u001b[0;34m(\u001b[0m\u001b[0my_test\u001b[0m\u001b[0;34m,\u001b[0m \u001b[0my_pred\u001b[0m\u001b[0;34m)\u001b[0m\u001b[0;34m\u001b[0m\u001b[0;34m\u001b[0m\u001b[0m\n",
            "\u001b[0;32m<ipython-input-130-8bb5fc1439f0>\u001b[0m in \u001b[0;36mclassify_no_loops\u001b[0;34m(x, pc, pac)\u001b[0m\n\u001b[1;32m      1\u001b[0m \u001b[0;32mdef\u001b[0m \u001b[0mclassify_no_loops\u001b[0m\u001b[0;34m(\u001b[0m\u001b[0mx\u001b[0m\u001b[0;34m,\u001b[0m\u001b[0mpc\u001b[0m\u001b[0;34m,\u001b[0m\u001b[0mpac\u001b[0m\u001b[0;34m)\u001b[0m\u001b[0;34m:\u001b[0m\u001b[0;34m\u001b[0m\u001b[0;34m\u001b[0m\u001b[0m\n\u001b[0;32m----> 2\u001b[0;31m   \u001b[0mp\u001b[0m \u001b[0;34m=\u001b[0m \u001b[0mx\u001b[0m\u001b[0;34m*\u001b[0m\u001b[0mpac\u001b[0m \u001b[0;34m+\u001b[0m \u001b[0;34m(\u001b[0m\u001b[0;36m1\u001b[0m\u001b[0;34m-\u001b[0m\u001b[0mx\u001b[0m\u001b[0;34m)\u001b[0m\u001b[0;34m*\u001b[0m\u001b[0;34m(\u001b[0m\u001b[0;36m1\u001b[0m\u001b[0;34m-\u001b[0m\u001b[0mpac\u001b[0m\u001b[0;34m)\u001b[0m\u001b[0;34m\u001b[0m\u001b[0;34m\u001b[0m\u001b[0m\n\u001b[0m\u001b[1;32m      3\u001b[0m   \u001b[0mp\u001b[0m \u001b[0;34m=\u001b[0m \u001b[0mnp\u001b[0m\u001b[0;34m.\u001b[0m\u001b[0mprod\u001b[0m\u001b[0;34m(\u001b[0m\u001b[0mp\u001b[0m\u001b[0;34m,\u001b[0m \u001b[0maxis\u001b[0m\u001b[0;34m=\u001b[0m\u001b[0;36m1\u001b[0m\u001b[0;34m)\u001b[0m\u001b[0;34m\u001b[0m\u001b[0;34m\u001b[0m\u001b[0m\n\u001b[1;32m      4\u001b[0m   \u001b[0mp\u001b[0m \u001b[0;34m=\u001b[0m \u001b[0mpc\u001b[0m\u001b[0;34m*\u001b[0m\u001b[0mp\u001b[0m\u001b[0;34m\u001b[0m\u001b[0;34m\u001b[0m\u001b[0m\n\u001b[1;32m      5\u001b[0m   \u001b[0mp\u001b[0m \u001b[0;34m=\u001b[0m \u001b[0mp\u001b[0m\u001b[0;34m/\u001b[0m\u001b[0mnp\u001b[0m\u001b[0;34m.\u001b[0m\u001b[0msum\u001b[0m\u001b[0;34m(\u001b[0m\u001b[0mp\u001b[0m\u001b[0;34m)\u001b[0m\u001b[0;34m\u001b[0m\u001b[0;34m\u001b[0m\u001b[0m\n",
            "\u001b[0;31mValueError\u001b[0m: operands could not be broadcast together with shapes (10000,784) (60000,) "
          ]
        }
      ]
    },
    {
      "cell_type": "markdown",
      "source": [
        "## Submission Instructions\n",
        "\n",
        "1. File > Download .ipynb\n",
        "2. Go to Blackboard, find the submission page, and upload the .ipynb file you just downloaded."
      ],
      "metadata": {
        "id": "THpbziuF23A4"
      }
    }
  ]
}